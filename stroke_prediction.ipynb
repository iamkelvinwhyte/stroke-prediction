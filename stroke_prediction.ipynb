{
 "cells": [
  {
   "cell_type": "code",
   "execution_count": 81,
   "id": "820bfc8e-3e4b-406c-be2c-cddd896d73a7",
   "metadata": {},
   "outputs": [],
   "source": [
    "import warnings\n",
    "warnings.filterwarnings('ignore')\n",
    "%matplotlib inline\n",
    "import numpy as np\n",
    "import pandas as pd\n",
    "import matplotlib.pyplot as plt\n",
    "import  seaborn as sns\n",
    "import plotly.express as px\n",
    "sns.set()\n",
    "from sklearn.preprocessing import OneHotEncoder, StandardScaler\n",
    "from sklearn.decomposition import PCA"
   ]
  },
  {
   "cell_type": "code",
   "execution_count": 67,
   "id": "9ce3ed72-a3f2-4a03-a734-e75416a06a51",
   "metadata": {},
   "outputs": [
    {
     "data": {
      "text/html": [
       "<div>\n",
       "<style scoped>\n",
       "    .dataframe tbody tr th:only-of-type {\n",
       "        vertical-align: middle;\n",
       "    }\n",
       "\n",
       "    .dataframe tbody tr th {\n",
       "        vertical-align: top;\n",
       "    }\n",
       "\n",
       "    .dataframe thead th {\n",
       "        text-align: right;\n",
       "    }\n",
       "</style>\n",
       "<table border=\"1\" class=\"dataframe\">\n",
       "  <thead>\n",
       "    <tr style=\"text-align: right;\">\n",
       "      <th></th>\n",
       "      <th>id</th>\n",
       "      <th>gender</th>\n",
       "      <th>age</th>\n",
       "      <th>hypertension</th>\n",
       "      <th>heart_disease</th>\n",
       "      <th>ever_married</th>\n",
       "      <th>work_type</th>\n",
       "      <th>Residence_type</th>\n",
       "      <th>avg_glucose_level</th>\n",
       "      <th>bmi</th>\n",
       "      <th>smoking_status</th>\n",
       "      <th>stroke</th>\n",
       "    </tr>\n",
       "  </thead>\n",
       "  <tbody>\n",
       "    <tr>\n",
       "      <th>0</th>\n",
       "      <td>9046</td>\n",
       "      <td>Male</td>\n",
       "      <td>67.0</td>\n",
       "      <td>0</td>\n",
       "      <td>1</td>\n",
       "      <td>Yes</td>\n",
       "      <td>Private</td>\n",
       "      <td>Urban</td>\n",
       "      <td>228.69</td>\n",
       "      <td>36.6</td>\n",
       "      <td>formerly smoked</td>\n",
       "      <td>1</td>\n",
       "    </tr>\n",
       "    <tr>\n",
       "      <th>1</th>\n",
       "      <td>51676</td>\n",
       "      <td>Female</td>\n",
       "      <td>61.0</td>\n",
       "      <td>0</td>\n",
       "      <td>0</td>\n",
       "      <td>Yes</td>\n",
       "      <td>Self-employed</td>\n",
       "      <td>Rural</td>\n",
       "      <td>202.21</td>\n",
       "      <td>NaN</td>\n",
       "      <td>never smoked</td>\n",
       "      <td>1</td>\n",
       "    </tr>\n",
       "    <tr>\n",
       "      <th>2</th>\n",
       "      <td>31112</td>\n",
       "      <td>Male</td>\n",
       "      <td>80.0</td>\n",
       "      <td>0</td>\n",
       "      <td>1</td>\n",
       "      <td>Yes</td>\n",
       "      <td>Private</td>\n",
       "      <td>Rural</td>\n",
       "      <td>105.92</td>\n",
       "      <td>32.5</td>\n",
       "      <td>never smoked</td>\n",
       "      <td>1</td>\n",
       "    </tr>\n",
       "    <tr>\n",
       "      <th>3</th>\n",
       "      <td>60182</td>\n",
       "      <td>Female</td>\n",
       "      <td>49.0</td>\n",
       "      <td>0</td>\n",
       "      <td>0</td>\n",
       "      <td>Yes</td>\n",
       "      <td>Private</td>\n",
       "      <td>Urban</td>\n",
       "      <td>171.23</td>\n",
       "      <td>34.4</td>\n",
       "      <td>smokes</td>\n",
       "      <td>1</td>\n",
       "    </tr>\n",
       "    <tr>\n",
       "      <th>4</th>\n",
       "      <td>1665</td>\n",
       "      <td>Female</td>\n",
       "      <td>79.0</td>\n",
       "      <td>1</td>\n",
       "      <td>0</td>\n",
       "      <td>Yes</td>\n",
       "      <td>Self-employed</td>\n",
       "      <td>Rural</td>\n",
       "      <td>174.12</td>\n",
       "      <td>24.0</td>\n",
       "      <td>never smoked</td>\n",
       "      <td>1</td>\n",
       "    </tr>\n",
       "  </tbody>\n",
       "</table>\n",
       "</div>"
      ],
      "text/plain": [
       "      id  gender   age  hypertension  heart_disease ever_married  \\\n",
       "0   9046    Male  67.0             0              1          Yes   \n",
       "1  51676  Female  61.0             0              0          Yes   \n",
       "2  31112    Male  80.0             0              1          Yes   \n",
       "3  60182  Female  49.0             0              0          Yes   \n",
       "4   1665  Female  79.0             1              0          Yes   \n",
       "\n",
       "       work_type Residence_type  avg_glucose_level   bmi   smoking_status  \\\n",
       "0        Private          Urban             228.69  36.6  formerly smoked   \n",
       "1  Self-employed          Rural             202.21   NaN     never smoked   \n",
       "2        Private          Rural             105.92  32.5     never smoked   \n",
       "3        Private          Urban             171.23  34.4           smokes   \n",
       "4  Self-employed          Rural             174.12  24.0     never smoked   \n",
       "\n",
       "   stroke  \n",
       "0       1  \n",
       "1       1  \n",
       "2       1  \n",
       "3       1  \n",
       "4       1  "
      ]
     },
     "execution_count": 67,
     "metadata": {},
     "output_type": "execute_result"
    }
   ],
   "source": [
    "data=pd.read_csv('data/healthcare-dataset-stroke-data.csv')\n",
    "data.head()"
   ]
  },
  {
   "cell_type": "markdown",
   "id": "926c6919-eacd-4386-9bd4-9255f1794d8f",
   "metadata": {},
   "source": [
    "###  Explore Data\n",
    " Exploring the data give insight on the data "
   ]
  },
  {
   "cell_type": "code",
   "execution_count": 76,
   "id": "f15d8b34-7a26-4a70-b905-08525d521d42",
   "metadata": {},
   "outputs": [
    {
     "name": "stdout",
     "output_type": "stream",
     "text": [
      "----------Dataset Shape----------\n",
      "No of Rows:  5109 | No of Columns:  11\n",
      "----List of columns----\n",
      "Columns: ['gender', 'age', 'hypertension', 'heart_disease', 'ever_married', 'work_type', 'Residence_type', 'avg_glucose_level', 'bmi', 'smoking_status', 'stroke']\n",
      "---------------------------------\n",
      "-----Column with  Nulls Dtype-----\n",
      "<class 'pandas.core.frame.DataFrame'>\n",
      "RangeIndex: 5109 entries, 0 to 5108\n",
      "Data columns (total 11 columns):\n",
      " #   Column             Non-Null Count  Dtype  \n",
      "---  ------             --------------  -----  \n",
      " 0   gender             5109 non-null   object \n",
      " 1   age                5109 non-null   float64\n",
      " 2   hypertension       5109 non-null   int64  \n",
      " 3   heart_disease      5109 non-null   int64  \n",
      " 4   ever_married       5109 non-null   object \n",
      " 5   work_type          5109 non-null   object \n",
      " 6   Residence_type     5109 non-null   object \n",
      " 7   avg_glucose_level  5109 non-null   float64\n",
      " 8   bmi                4908 non-null   float64\n",
      " 9   smoking_status     5109 non-null   object \n",
      " 10  stroke             5109 non-null   int64  \n",
      "dtypes: float64(3), int64(3), object(5)\n",
      "memory usage: 439.2+ KB\n",
      "None\n",
      "---------------------------------\n",
      "No of Null values in column 'bmi': 201\n",
      "Percentage of missing values in bmi:  4.1 %\n"
     ]
    }
   ],
   "source": [
    "print('----------Dataset Shape----------')\n",
    "print('No of Rows: ', data.shape[0],'| No of Columns: ',data.shape[1])\n",
    "print('----List of columns----')\n",
    "print('Columns:', data.columns.tolist())\n",
    "print('---------------------------------')\n",
    "\n",
    "# print('----Column with unique values----')\n",
    "# col=data.columns.tolist()\n",
    "# for i in range(len(cols)):\n",
    "#   print(cols[i],\": \",data[cols[i]].unique().tolist())\n",
    "# print('---------------------------------')\n",
    "\n",
    "\n",
    "print('-----Column with  Nulls Dtype-----')\n",
    "print(data.info())\n",
    "\n",
    "print('---------------------------------')\n",
    "print(\"No of Null values in column \\'bmi':\",data.bmi.isna().sum())\n",
    "\n",
    "print(\"Percentage of missing values in bmi: \", round(100*data['bmi'].isna().sum()/data['bmi'].count(),2),\"%\")\n"
   ]
  },
  {
   "cell_type": "markdown",
   "id": "f3d5ee4e-4b73-4e89-8406-98992d7938ae",
   "metadata": {},
   "source": [
    "#### Observations:\n",
    "\n",
    "Column 'bmi' has 201 Null values. These need to be imputed later in the code \n",
    "Columns 'gender', 'ever_married', 'work_type', 'Residence_type', 'smoking_status' have Dtype Object/String. These need to be transformed into numerical values later in the code\n",
    "\n"
   ]
  },
  {
   "cell_type": "code",
   "execution_count": 68,
   "id": "0e983f7d-98d7-4808-bfbf-d1f2363a7aa0",
   "metadata": {},
   "outputs": [],
   "source": [
    "# Drop column 'id'\n",
    "data.drop('id', axis=1, inplace = True)\n",
    "\n",
    "# Reset index of dataframe\n",
    "data = data.reset_index(drop = True)"
   ]
  },
  {
   "cell_type": "markdown",
   "id": "59035a58-27f3-41a0-9b84-094db4297e6a",
   "metadata": {},
   "source": [
    "#### Check unique value counts in columns"
   ]
  },
  {
   "cell_type": "code",
   "execution_count": 69,
   "id": "ff4fba14-63ce-41a4-a1ec-9cc23abd6300",
   "metadata": {},
   "outputs": [
    {
     "name": "stdout",
     "output_type": "stream",
     "text": [
      "Female    2994\n",
      "Male      2115\n",
      "Other        1\n",
      "Name: gender, dtype: int64 \n",
      "\n",
      "0    4612\n",
      "1     498\n",
      "Name: hypertension, dtype: int64 \n",
      "\n",
      "0    4834\n",
      "1     276\n",
      "Name: heart_disease, dtype: int64 \n",
      "\n",
      "Yes    3353\n",
      "No     1757\n",
      "Name: ever_married, dtype: int64 \n",
      "\n",
      "Private          2925\n",
      "Self-employed     819\n",
      "children          687\n",
      "Govt_job          657\n",
      "Never_worked       22\n",
      "Name: work_type, dtype: int64 \n",
      "\n",
      "Urban    2596\n",
      "Rural    2514\n",
      "Name: Residence_type, dtype: int64 \n",
      "\n",
      "never smoked       1892\n",
      "Unknown            1544\n",
      "formerly smoked     885\n",
      "smokes              789\n",
      "Name: smoking_status, dtype: int64 \n",
      "\n",
      "0    4861\n",
      "1     249\n",
      "Name: stroke, dtype: int64 \n",
      "\n"
     ]
    }
   ],
   "source": [
    "# function to print unique value counts in columns of a dataframe\n",
    "def unique_col_counts(data, columns):\n",
    "  for i in range(len(columns)):\n",
    "    print(data[columns[i]].value_counts(),\"\\n\")\n",
    "\n",
    "# Display unique value counts in columns\n",
    "columns = ['gender','hypertension','heart_disease','ever_married','work_type','Residence_type','smoking_status','stroke']\n",
    "unique_col_counts(data, columns)"
   ]
  },
  {
   "cell_type": "markdown",
   "id": "a9b581d1-d288-48b9-a8b2-3f20af81523b",
   "metadata": {},
   "source": [
    "#### Observations:\n",
    "\n",
    " ##### 'gender' has 1 row as 'Other'. The rest are either 'Female' or 'Male'. This row can be dropped without any significant impact\n",
    " ##### 'work_type' has several categories. These will be generalized and numerical encoded later in code\n",
    " ##### 'smoking_status' has several categories. These will be generalized and numerical encoded later in code\n",
    " ##### 'ever_married' and 'Residence_type' have string values. These will be numerical binary encoded later in code\n"
   ]
  },
  {
   "cell_type": "markdown",
   "id": "2066d27a-8bf5-475c-8bf7-1970b5fc20c8",
   "metadata": {},
   "source": [
    "#### Drop 1 row with 'gender' value 'Other'"
   ]
  },
  {
   "cell_type": "code",
   "execution_count": 70,
   "id": "5b86c6b3-477d-4ef3-b218-dd81e2aa6e38",
   "metadata": {},
   "outputs": [
    {
     "data": {
      "text/html": [
       "<div>\n",
       "<style scoped>\n",
       "    .dataframe tbody tr th:only-of-type {\n",
       "        vertical-align: middle;\n",
       "    }\n",
       "\n",
       "    .dataframe tbody tr th {\n",
       "        vertical-align: top;\n",
       "    }\n",
       "\n",
       "    .dataframe thead th {\n",
       "        text-align: right;\n",
       "    }\n",
       "</style>\n",
       "<table border=\"1\" class=\"dataframe\">\n",
       "  <thead>\n",
       "    <tr style=\"text-align: right;\">\n",
       "      <th></th>\n",
       "      <th>gender</th>\n",
       "      <th>age</th>\n",
       "      <th>hypertension</th>\n",
       "      <th>heart_disease</th>\n",
       "      <th>ever_married</th>\n",
       "      <th>work_type</th>\n",
       "      <th>Residence_type</th>\n",
       "      <th>avg_glucose_level</th>\n",
       "      <th>bmi</th>\n",
       "      <th>smoking_status</th>\n",
       "      <th>stroke</th>\n",
       "    </tr>\n",
       "  </thead>\n",
       "  <tbody>\n",
       "    <tr>\n",
       "      <th>3116</th>\n",
       "      <td>Other</td>\n",
       "      <td>26.0</td>\n",
       "      <td>0</td>\n",
       "      <td>0</td>\n",
       "      <td>No</td>\n",
       "      <td>Private</td>\n",
       "      <td>Rural</td>\n",
       "      <td>143.33</td>\n",
       "      <td>22.4</td>\n",
       "      <td>formerly smoked</td>\n",
       "      <td>0</td>\n",
       "    </tr>\n",
       "  </tbody>\n",
       "</table>\n",
       "</div>"
      ],
      "text/plain": [
       "     gender   age  hypertension  heart_disease ever_married work_type  \\\n",
       "3116  Other  26.0             0              0           No   Private   \n",
       "\n",
       "     Residence_type  avg_glucose_level   bmi   smoking_status  stroke  \n",
       "3116          Rural             143.33  22.4  formerly smoked       0  "
      ]
     },
     "metadata": {},
     "output_type": "display_data"
    }
   ],
   "source": [
    "# Display row with 'gender' is 'Other'\n",
    "display(data[data['gender'] == 'Other'])\n"
   ]
  },
  {
   "cell_type": "code",
   "execution_count": 71,
   "id": "c1129ad5-816d-4e79-831d-3f74def1ff38",
   "metadata": {},
   "outputs": [],
   "source": [
    "# Drop row\n",
    "data.drop(data.index[data['gender'] == 'Other'], inplace=True)\n",
    "\n",
    "# Reset index of dataframe\n",
    "data = data.reset_index(drop = True)"
   ]
  },
  {
   "cell_type": "markdown",
   "id": "cf73660f-b79f-4bc7-8b9e-adee6fccc5a1",
   "metadata": {},
   "source": [
    "### Data Preprocessing\n",
    "\n",
    "Outlier Removal\n",
    "\n",
    "    Find outliers in the contiguos numeric data columns 'age', 'bmi'\n",
    "    \n",
    " An outlier is an observation that lies an abnormal distance from other values in a random sample from a population. \n",
    " #### OR\n",
    " An outlier is a value or point that differs substantially from the rest of the data\n"
   ]
  },
  {
   "cell_type": "code",
   "execution_count": 32,
   "id": "4119908e-a140-4f9f-8cea-e101cb3b73a4",
   "metadata": {},
   "outputs": [
    {
     "data": {
      "image/png": "[encoded data removed]",
      "text/plain": [
       "<Figure size 720x432 with 2 Axes>"
      ]
     },
     "metadata": {},
     "output_type": "display_data"
    }
   ],
   "source": [
    "# Set seaborn style palette\n",
    "sns.set_theme(style=\"ticks\", palette=\"icefire\")\n",
    "\n",
    "# Array of columns that we would like to plot\n",
    "cols = ['age','bmi']\n",
    "\n",
    "# Instantiate figure and axes for as many subplots as the columns in question\n",
    "fig, ax = plt.subplots(ncols=len(cols), figsize=(5 * len(cols),6), sharex = True)\n",
    "\n",
    "# Draw a Boxen Plot for each column in question\n",
    "for i in range(len(cols)):\n",
    "  (sns.boxenplot(y=data[cols[i]],data=data, showfliers=True,ax=ax[i])).set(xlabel=cols[i])\n",
    "\n",
    "# Adjust space between subplots\n",
    "fig.subplots_adjust(wspace=0.5)"
   ]
  },
  {
   "cell_type": "markdown",
   "id": "66dccca4-df7e-42aa-ab21-56b90260d549",
   "metadata": {},
   "source": [
    "#### Observations:\n",
    "\n",
    "    'age' has no outliers\n",
    "    'bmi' has outlier values > 80. These can be deleted\n",
    "\n",
    "#### Next:\n",
    "\n",
    "    Drop rows with 'bmi' > 80\n",
    "\n"
   ]
  },
  {
   "cell_type": "code",
   "execution_count": 33,
   "id": "f7d86529-e7c3-410f-b010-b8d326132f83",
   "metadata": {},
   "outputs": [
    {
     "data": {
      "text/html": [
       "<div>\n",
       "<style scoped>\n",
       "    .dataframe tbody tr th:only-of-type {\n",
       "        vertical-align: middle;\n",
       "    }\n",
       "\n",
       "    .dataframe tbody tr th {\n",
       "        vertical-align: top;\n",
       "    }\n",
       "\n",
       "    .dataframe thead th {\n",
       "        text-align: right;\n",
       "    }\n",
       "</style>\n",
       "<table border=\"1\" class=\"dataframe\">\n",
       "  <thead>\n",
       "    <tr style=\"text-align: right;\">\n",
       "      <th></th>\n",
       "      <th>gender</th>\n",
       "      <th>age</th>\n",
       "      <th>hypertension</th>\n",
       "      <th>heart_disease</th>\n",
       "      <th>ever_married</th>\n",
       "      <th>work_type</th>\n",
       "      <th>Residence_type</th>\n",
       "      <th>avg_glucose_level</th>\n",
       "      <th>bmi</th>\n",
       "      <th>smoking_status</th>\n",
       "      <th>stroke</th>\n",
       "    </tr>\n",
       "  </thead>\n",
       "  <tbody>\n",
       "    <tr>\n",
       "      <th>2128</th>\n",
       "      <td>Male</td>\n",
       "      <td>17.0</td>\n",
       "      <td>1</td>\n",
       "      <td>0</td>\n",
       "      <td>No</td>\n",
       "      <td>Private</td>\n",
       "      <td>Rural</td>\n",
       "      <td>61.67</td>\n",
       "      <td>97.6</td>\n",
       "      <td>Unknown</td>\n",
       "      <td>0</td>\n",
       "    </tr>\n",
       "    <tr>\n",
       "      <th>4208</th>\n",
       "      <td>Male</td>\n",
       "      <td>38.0</td>\n",
       "      <td>1</td>\n",
       "      <td>0</td>\n",
       "      <td>Yes</td>\n",
       "      <td>Private</td>\n",
       "      <td>Rural</td>\n",
       "      <td>56.90</td>\n",
       "      <td>92.0</td>\n",
       "      <td>never smoked</td>\n",
       "      <td>0</td>\n",
       "    </tr>\n",
       "  </tbody>\n",
       "</table>\n",
       "</div>"
      ],
      "text/plain": [
       "     gender   age  hypertension  heart_disease ever_married work_type  \\\n",
       "2128   Male  17.0             1              0           No   Private   \n",
       "4208   Male  38.0             1              0          Yes   Private   \n",
       "\n",
       "     Residence_type  avg_glucose_level   bmi smoking_status  stroke  \n",
       "2128          Rural              61.67  97.6        Unknown       0  \n",
       "4208          Rural              56.90  92.0   never smoked       0  "
      ]
     },
     "metadata": {},
     "output_type": "display_data"
    }
   ],
   "source": [
    "# Display rows with 'bmi' > 80\n",
    "display(data[data['bmi'] > 80])\n"
   ]
  },
  {
   "cell_type": "code",
   "execution_count": 34,
   "id": "fdb08c19-8923-48fc-a16f-ea2dbc183429",
   "metadata": {},
   "outputs": [],
   "source": [
    "# Drop rows\n",
    "data.drop(data.index[data['bmi'] > 80], inplace=True)\n",
    "\n",
    "# Reset index of dataframe\n",
    "data = data.reset_index(drop = True)"
   ]
  },
  {
   "cell_type": "markdown",
   "id": "22f03030-10e4-46d3-9b28-ec9c40e963f7",
   "metadata": {},
   "source": [
    "#### Data Transformation\n",
    "\n",
    "    Replace values in 'work_type' and 'smoking_status' with generalized values\n",
    "\n"
   ]
  },
  {
   "cell_type": "code",
   "execution_count": 35,
   "id": "528fe660-1616-43ce-b9f5-13ce984c8e54",
   "metadata": {},
   "outputs": [
    {
     "name": "stdout",
     "output_type": "stream",
     "text": [
      "Work       4398\n",
      "No Work     709\n",
      "Name: work_type, dtype: int64 \n",
      "\n",
      "No     4318\n",
      "Yes     789\n",
      "Name: smoking_status, dtype: int64 \n",
      "\n"
     ]
    }
   ],
   "source": [
    "# Declare dictionary of old vs new values for 'work_type'\n",
    "new_work_type ={'Private' : 'Work',\n",
    "                 'Self-employed' : 'Work',\n",
    "                 'children': 'No Work',\n",
    "                 'Govt_job' : 'Work',\n",
    "                 'Never_worked' : 'No Work'\n",
    "                }\n",
    "# Replace old values with new\n",
    "data['work_type'].replace(new_work_type, inplace = True)\n",
    "\n",
    "# Declare dictionary of old vs new values for 'smoking_status'\n",
    "new_smoking_status ={'smokes' : 'Yes',\n",
    "                      'never smoked' : 'No',\n",
    "                      'Unknown' : 'No',\n",
    "                      'formerly smoked': 'No'\n",
    "                     }\n",
    "# Replace old values with new\n",
    "data['smoking_status'].replace(new_smoking_status, inplace = True)\n",
    "\n",
    "# Check the newly assigned values and counts\n",
    "columns = ['work_type','smoking_status']\n",
    "unique_col_counts(data, columns)\n"
   ]
  },
  {
   "cell_type": "markdown",
   "id": "54288b69-523d-4f1c-b064-b759205f7b0e",
   "metadata": {},
   "source": [
    "#### Encoding Categorical Features with One-Hot Encoder\n",
    "\n",
    "    The categorical columns are nominal and will be encoded using one-hot encoder\n",
    "    \n",
    "##### Encode categorical features as a one-hot numeric array.\n",
    "\n",
    "The input to this transformer should be an array-like of integers or strings, denoting the values taken on by categorical (discrete) features. The features are encoded using a one-hot (aka ‘one-of-K’ or ‘dummy’) encoding scheme. This creates a binary column for each category and returns a sparse matrix or dense array (depending on the sparse parameter)\n",
    "\n",
    "This convert the category into 1 and 0  in an arrary format\n"
   ]
  },
  {
   "cell_type": "code",
   "execution_count": 37,
   "id": "80d0fd69-f9fc-4655-a1e0-bd3e4ace2a0c",
   "metadata": {},
   "outputs": [
    {
     "data": {
      "text/html": [
       "<div>\n",
       "<style scoped>\n",
       "    .dataframe tbody tr th:only-of-type {\n",
       "        vertical-align: middle;\n",
       "    }\n",
       "\n",
       "    .dataframe tbody tr th {\n",
       "        vertical-align: top;\n",
       "    }\n",
       "\n",
       "    .dataframe thead th {\n",
       "        text-align: right;\n",
       "    }\n",
       "</style>\n",
       "<table border=\"1\" class=\"dataframe\">\n",
       "  <thead>\n",
       "    <tr style=\"text-align: right;\">\n",
       "      <th></th>\n",
       "      <th>age</th>\n",
       "      <th>hypertension</th>\n",
       "      <th>heart_disease</th>\n",
       "      <th>avg_glucose_level</th>\n",
       "      <th>bmi</th>\n",
       "      <th>stroke</th>\n",
       "      <th>gender_Female</th>\n",
       "      <th>gender_Male</th>\n",
       "      <th>ever_married_No</th>\n",
       "      <th>ever_married_Yes</th>\n",
       "      <th>work_type_No Work</th>\n",
       "      <th>work_type_Work</th>\n",
       "      <th>Residence_type_Rural</th>\n",
       "      <th>Residence_type_Urban</th>\n",
       "      <th>smoking_status_No</th>\n",
       "      <th>smoking_status_Yes</th>\n",
       "    </tr>\n",
       "  </thead>\n",
       "  <tbody>\n",
       "    <tr>\n",
       "      <th>0</th>\n",
       "      <td>67.0</td>\n",
       "      <td>0</td>\n",
       "      <td>1</td>\n",
       "      <td>228.69</td>\n",
       "      <td>36.6</td>\n",
       "      <td>1</td>\n",
       "      <td>0</td>\n",
       "      <td>1</td>\n",
       "      <td>0</td>\n",
       "      <td>1</td>\n",
       "      <td>0</td>\n",
       "      <td>1</td>\n",
       "      <td>0</td>\n",
       "      <td>1</td>\n",
       "      <td>1</td>\n",
       "      <td>0</td>\n",
       "    </tr>\n",
       "    <tr>\n",
       "      <th>1</th>\n",
       "      <td>61.0</td>\n",
       "      <td>0</td>\n",
       "      <td>0</td>\n",
       "      <td>202.21</td>\n",
       "      <td>NaN</td>\n",
       "      <td>1</td>\n",
       "      <td>1</td>\n",
       "      <td>0</td>\n",
       "      <td>0</td>\n",
       "      <td>1</td>\n",
       "      <td>0</td>\n",
       "      <td>1</td>\n",
       "      <td>1</td>\n",
       "      <td>0</td>\n",
       "      <td>1</td>\n",
       "      <td>0</td>\n",
       "    </tr>\n",
       "    <tr>\n",
       "      <th>2</th>\n",
       "      <td>80.0</td>\n",
       "      <td>0</td>\n",
       "      <td>1</td>\n",
       "      <td>105.92</td>\n",
       "      <td>32.5</td>\n",
       "      <td>1</td>\n",
       "      <td>0</td>\n",
       "      <td>1</td>\n",
       "      <td>0</td>\n",
       "      <td>1</td>\n",
       "      <td>0</td>\n",
       "      <td>1</td>\n",
       "      <td>1</td>\n",
       "      <td>0</td>\n",
       "      <td>1</td>\n",
       "      <td>0</td>\n",
       "    </tr>\n",
       "    <tr>\n",
       "      <th>3</th>\n",
       "      <td>49.0</td>\n",
       "      <td>0</td>\n",
       "      <td>0</td>\n",
       "      <td>171.23</td>\n",
       "      <td>34.4</td>\n",
       "      <td>1</td>\n",
       "      <td>1</td>\n",
       "      <td>0</td>\n",
       "      <td>0</td>\n",
       "      <td>1</td>\n",
       "      <td>0</td>\n",
       "      <td>1</td>\n",
       "      <td>0</td>\n",
       "      <td>1</td>\n",
       "      <td>0</td>\n",
       "      <td>1</td>\n",
       "    </tr>\n",
       "    <tr>\n",
       "      <th>4</th>\n",
       "      <td>79.0</td>\n",
       "      <td>1</td>\n",
       "      <td>0</td>\n",
       "      <td>174.12</td>\n",
       "      <td>24.0</td>\n",
       "      <td>1</td>\n",
       "      <td>1</td>\n",
       "      <td>0</td>\n",
       "      <td>0</td>\n",
       "      <td>1</td>\n",
       "      <td>0</td>\n",
       "      <td>1</td>\n",
       "      <td>1</td>\n",
       "      <td>0</td>\n",
       "      <td>1</td>\n",
       "      <td>0</td>\n",
       "    </tr>\n",
       "  </tbody>\n",
       "</table>\n",
       "</div>"
      ],
      "text/plain": [
       "    age  hypertension  heart_disease  avg_glucose_level   bmi  stroke  \\\n",
       "0  67.0             0              1             228.69  36.6       1   \n",
       "1  61.0             0              0             202.21   NaN       1   \n",
       "2  80.0             0              1             105.92  32.5       1   \n",
       "3  49.0             0              0             171.23  34.4       1   \n",
       "4  79.0             1              0             174.12  24.0       1   \n",
       "\n",
       "   gender_Female  gender_Male  ever_married_No  ever_married_Yes  \\\n",
       "0              0            1                0                 1   \n",
       "1              1            0                0                 1   \n",
       "2              0            1                0                 1   \n",
       "3              1            0                0                 1   \n",
       "4              1            0                0                 1   \n",
       "\n",
       "   work_type_No Work  work_type_Work  Residence_type_Rural  \\\n",
       "0                  0               1                     0   \n",
       "1                  0               1                     1   \n",
       "2                  0               1                     1   \n",
       "3                  0               1                     0   \n",
       "4                  0               1                     1   \n",
       "\n",
       "   Residence_type_Urban  smoking_status_No  smoking_status_Yes  \n",
       "0                     1                  1                   0  \n",
       "1                     0                  1                   0  \n",
       "2                     0                  1                   0  \n",
       "3                     1                  0                   1  \n",
       "4                     0                  1                   0  "
      ]
     },
     "execution_count": 37,
     "metadata": {},
     "output_type": "execute_result"
    }
   ],
   "source": [
    "\n",
    "# Categorical Columns: 'gender', 'ever_married', 'work_type', 'Residence_type', 'smoking_status'\n",
    "\n",
    "# Initialize One Hot Encoder\n",
    "one_hot_encoder = OneHotEncoder()\n",
    "# Fit and Transform the columns\n",
    "df_temp = one_hot_encoder.fit_transform(data[['gender', 'ever_married', 'work_type', 'Residence_type', 'smoking_status']]).toarray()\n",
    "\n",
    "# Get newly encoded columns and concat them to the Dataframe\n",
    "encodings = pd.DataFrame(columns = one_hot_encoder.get_feature_names_out(),data = df_temp)\n",
    "encodings = encodings.astype(int)\n",
    "data = pd.concat([data,encodings] , axis=1)\n",
    "\n",
    "# Drop original columns from the dataset after encoding is done\n",
    "data.drop(['gender', 'ever_married', 'work_type', 'Residence_type', 'smoking_status'],axis = 1, inplace=True)\n",
    "data.head()\n",
    "\n"
   ]
  },
  {
   "cell_type": "markdown",
   "id": "363849b8-a778-4f27-bc48-60f984514dc7",
   "metadata": {},
   "source": [
    "#### Missing values Imputation\n",
    "\n",
    "    As observed earlier, 'bmi' has Null values\n",
    "\n",
    "Next: We will use mode of 'bmi' and assign to missing values"
   ]
  },
  {
   "cell_type": "code",
   "execution_count": 42,
   "id": "d122bc42-85f6-4255-8d94-82129d2c79b1",
   "metadata": {},
   "outputs": [
    {
     "data": {
      "text/plain": [
       "age                     0\n",
       "hypertension            0\n",
       "heart_disease           0\n",
       "avg_glucose_level       0\n",
       "bmi                     0\n",
       "stroke                  0\n",
       "gender_Female           0\n",
       "gender_Male             0\n",
       "ever_married_No         0\n",
       "ever_married_Yes        0\n",
       "work_type_No Work       0\n",
       "work_type_Work          0\n",
       "Residence_type_Rural    0\n",
       "Residence_type_Urban    0\n",
       "smoking_status_No       0\n",
       "smoking_status_Yes      0\n",
       "dtype: int64"
      ]
     },
     "execution_count": 42,
     "metadata": {},
     "output_type": "execute_result"
    }
   ],
   "source": [
    "# Calculate mode of 'bmi' and assign to missing values in 'bmi'\n",
    "bmi_mode = data['bmi'].mode()\n",
    "data = data.fillna({'bmi' : bmi_mode[0]})\n",
    "\n",
    "# Check to see there are no more missing values\n",
    "data.isna().sum()"
   ]
  },
  {
   "cell_type": "markdown",
   "id": "7bd5c20c-8624-4e41-b87f-3029393b6a04",
   "metadata": {},
   "source": [
    "#### Feature Scaling\n",
    "\n",
    "Next: Divide dataset into X feature variables and target variable y\n",
    "\n"
   ]
  },
  {
   "cell_type": "code",
   "execution_count": 43,
   "id": "b0669b9b-363f-486c-9623-609c619caf83",
   "metadata": {},
   "outputs": [],
   "source": [
    "# Create X and y variables\n",
    "X = data.drop(['stroke'],axis=1)  \n",
    "y = data['stroke'].to_frame()"
   ]
  },
  {
   "cell_type": "code",
   "execution_count": 77,
   "id": "5b4aa6e0-85bb-44ba-a404-cf0c98da6703",
   "metadata": {},
   "outputs": [
    {
     "data": {
      "text/html": [
       "<div>\n",
       "<style scoped>\n",
       "    .dataframe tbody tr th:only-of-type {\n",
       "        vertical-align: middle;\n",
       "    }\n",
       "\n",
       "    .dataframe tbody tr th {\n",
       "        vertical-align: top;\n",
       "    }\n",
       "\n",
       "    .dataframe thead th {\n",
       "        text-align: right;\n",
       "    }\n",
       "</style>\n",
       "<table border=\"1\" class=\"dataframe\">\n",
       "  <thead>\n",
       "    <tr style=\"text-align: right;\">\n",
       "      <th></th>\n",
       "      <th>stroke</th>\n",
       "    </tr>\n",
       "  </thead>\n",
       "  <tbody>\n",
       "    <tr>\n",
       "      <th>0</th>\n",
       "      <td>1</td>\n",
       "    </tr>\n",
       "    <tr>\n",
       "      <th>1</th>\n",
       "      <td>1</td>\n",
       "    </tr>\n",
       "    <tr>\n",
       "      <th>2</th>\n",
       "      <td>1</td>\n",
       "    </tr>\n",
       "    <tr>\n",
       "      <th>3</th>\n",
       "      <td>1</td>\n",
       "    </tr>\n",
       "    <tr>\n",
       "      <th>4</th>\n",
       "      <td>1</td>\n",
       "    </tr>\n",
       "    <tr>\n",
       "      <th>...</th>\n",
       "      <td>...</td>\n",
       "    </tr>\n",
       "    <tr>\n",
       "      <th>5102</th>\n",
       "      <td>0</td>\n",
       "    </tr>\n",
       "    <tr>\n",
       "      <th>5103</th>\n",
       "      <td>0</td>\n",
       "    </tr>\n",
       "    <tr>\n",
       "      <th>5104</th>\n",
       "      <td>0</td>\n",
       "    </tr>\n",
       "    <tr>\n",
       "      <th>5105</th>\n",
       "      <td>0</td>\n",
       "    </tr>\n",
       "    <tr>\n",
       "      <th>5106</th>\n",
       "      <td>0</td>\n",
       "    </tr>\n",
       "  </tbody>\n",
       "</table>\n",
       "<p>5107 rows × 1 columns</p>\n",
       "</div>"
      ],
      "text/plain": [
       "      stroke\n",
       "0          1\n",
       "1          1\n",
       "2          1\n",
       "3          1\n",
       "4          1\n",
       "...      ...\n",
       "5102       0\n",
       "5103       0\n",
       "5104       0\n",
       "5105       0\n",
       "5106       0\n",
       "\n",
       "[5107 rows x 1 columns]"
      ]
     },
     "execution_count": 77,
     "metadata": {},
     "output_type": "execute_result"
    }
   ],
   "source": [
    "y"
   ]
  },
  {
   "cell_type": "code",
   "execution_count": 78,
   "id": "8e0100de-6f00-4e54-8399-aa2f47b69509",
   "metadata": {},
   "outputs": [
    {
     "data": {
      "text/html": [
       "<div>\n",
       "<style scoped>\n",
       "    .dataframe tbody tr th:only-of-type {\n",
       "        vertical-align: middle;\n",
       "    }\n",
       "\n",
       "    .dataframe tbody tr th {\n",
       "        vertical-align: top;\n",
       "    }\n",
       "\n",
       "    .dataframe thead th {\n",
       "        text-align: right;\n",
       "    }\n",
       "</style>\n",
       "<table border=\"1\" class=\"dataframe\">\n",
       "  <thead>\n",
       "    <tr style=\"text-align: right;\">\n",
       "      <th></th>\n",
       "      <th>age</th>\n",
       "      <th>hypertension</th>\n",
       "      <th>heart_disease</th>\n",
       "      <th>avg_glucose_level</th>\n",
       "      <th>bmi</th>\n",
       "      <th>gender_Female</th>\n",
       "      <th>ever_married_No</th>\n",
       "      <th>work_type_No Work</th>\n",
       "      <th>Residence_type_Rural</th>\n",
       "      <th>smoking_status_No</th>\n",
       "    </tr>\n",
       "  </thead>\n",
       "  <tbody>\n",
       "    <tr>\n",
       "      <th>0</th>\n",
       "      <td>1.050908</td>\n",
       "      <td>-0.327977</td>\n",
       "      <td>4.183733</td>\n",
       "      <td>2.706084</td>\n",
       "      <td>1.019950</td>\n",
       "      <td>-1.190354</td>\n",
       "      <td>-0.72358</td>\n",
       "      <td>-0.401509</td>\n",
       "      <td>-0.983492</td>\n",
       "      <td>0.427462</td>\n",
       "    </tr>\n",
       "    <tr>\n",
       "      <th>1</th>\n",
       "      <td>0.785570</td>\n",
       "      <td>-0.327977</td>\n",
       "      <td>-0.239021</td>\n",
       "      <td>2.121277</td>\n",
       "      <td>-0.021231</td>\n",
       "      <td>0.840086</td>\n",
       "      <td>-0.72358</td>\n",
       "      <td>-0.401509</td>\n",
       "      <td>1.016785</td>\n",
       "      <td>0.427462</td>\n",
       "    </tr>\n",
       "  </tbody>\n",
       "</table>\n",
       "</div>"
      ],
      "text/plain": [
       "        age  hypertension  heart_disease  avg_glucose_level       bmi  \\\n",
       "0  1.050908     -0.327977       4.183733           2.706084  1.019950   \n",
       "1  0.785570     -0.327977      -0.239021           2.121277 -0.021231   \n",
       "\n",
       "   gender_Female  ever_married_No  work_type_No Work  Residence_type_Rural  \\\n",
       "0      -1.190354         -0.72358          -0.401509             -0.983492   \n",
       "1       0.840086         -0.72358          -0.401509              1.016785   \n",
       "\n",
       "   smoking_status_No  \n",
       "0           0.427462  \n",
       "1           0.427462  "
      ]
     },
     "execution_count": 78,
     "metadata": {},
     "output_type": "execute_result"
    }
   ],
   "source": [
    "# Instantiate Stander Scaler and fit and tranform feature variable set X\n",
    "scaler = StandardScaler()\n",
    "df = pd.DataFrame(scaler.fit_transform(X), columns=X.columns)\n",
    "df.head(2)"
   ]
  },
  {
   "cell_type": "markdown",
   "id": "90394614-4ed6-4586-ba35-5ec6e46f1239",
   "metadata": {},
   "source": [
    "### Dimensionality Reduction with PCA"
   ]
  },
  {
   "cell_type": "code",
   "execution_count": 79,
   "id": "a65bb771-f334-4fc4-bb3b-b5b31645ede6",
   "metadata": {},
   "outputs": [
    {
     "data": {
      "text/plain": [
       "<AxesSubplot:>"
      ]
     },
     "execution_count": 79,
     "metadata": {},
     "output_type": "execute_result"
    },
    {
     "data": {
      "image/png": "[encoded data removed]",
      "text/plain": [
       "<Figure size 1008x864 with 2 Axes>"
      ]
     },
     "metadata": {},
     "output_type": "display_data"
    }
   ],
   "source": [
    "#  Plot Seaborn Heatmap to identify correlated features\n",
    "fig = plt.figure(figsize=(14,12))         \n",
    "sns.heatmap(X.corr(), annot = True, cmap = \"Blues\")"
   ]
  },
  {
   "cell_type": "markdown",
   "id": "6e422df6-0637-41e7-8bc2-2f5ba49258df",
   "metadata": {},
   "source": [
    "\n",
    "\n",
    "#### Observations:\n",
    "\n",
    "    There are several correlated features as we performed encoding on categorical features.\n",
    "\n",
    "Next:\n",
    "\n",
    "    Reduce dimensions of dataset using PCA algorithm\n",
    "\n"
   ]
  },
  {
   "cell_type": "code",
   "execution_count": 82,
   "id": "33068145-ca15-44bd-b05f-95e13eaf65ad",
   "metadata": {},
   "outputs": [
    {
     "data": {
      "text/html": [
       "<div>\n",
       "<style scoped>\n",
       "    .dataframe tbody tr th:only-of-type {\n",
       "        vertical-align: middle;\n",
       "    }\n",
       "\n",
       "    .dataframe tbody tr th {\n",
       "        vertical-align: top;\n",
       "    }\n",
       "\n",
       "    .dataframe thead th {\n",
       "        text-align: right;\n",
       "    }\n",
       "</style>\n",
       "<table border=\"1\" class=\"dataframe\">\n",
       "  <thead>\n",
       "    <tr style=\"text-align: right;\">\n",
       "      <th></th>\n",
       "      <th>0</th>\n",
       "      <th>1</th>\n",
       "      <th>2</th>\n",
       "      <th>3</th>\n",
       "      <th>4</th>\n",
       "      <th>5</th>\n",
       "      <th>6</th>\n",
       "      <th>7</th>\n",
       "      <th>8</th>\n",
       "    </tr>\n",
       "  </thead>\n",
       "  <tbody>\n",
       "    <tr>\n",
       "      <th>0</th>\n",
       "      <td>-2.612200</td>\n",
       "      <td>3.616719</td>\n",
       "      <td>0.946084</td>\n",
       "      <td>-0.750976</td>\n",
       "      <td>-1.459967</td>\n",
       "      <td>1.154278</td>\n",
       "      <td>-2.062768</td>\n",
       "      <td>1.055601</td>\n",
       "      <td>-0.175414</td>\n",
       "    </tr>\n",
       "    <tr>\n",
       "      <th>1</th>\n",
       "      <td>-1.238594</td>\n",
       "      <td>0.239310</td>\n",
       "      <td>-1.455674</td>\n",
       "      <td>-0.086769</td>\n",
       "      <td>0.402272</td>\n",
       "      <td>0.274614</td>\n",
       "      <td>-1.586580</td>\n",
       "      <td>-1.189435</td>\n",
       "      <td>0.016565</td>\n",
       "    </tr>\n",
       "    <tr>\n",
       "      <th>2</th>\n",
       "      <td>-2.123245</td>\n",
       "      <td>2.530917</td>\n",
       "      <td>-0.112363</td>\n",
       "      <td>1.082492</td>\n",
       "      <td>-2.496229</td>\n",
       "      <td>1.845802</td>\n",
       "      <td>-0.058333</td>\n",
       "      <td>1.382721</td>\n",
       "      <td>-0.239196</td>\n",
       "    </tr>\n",
       "  </tbody>\n",
       "</table>\n",
       "</div>"
      ],
      "text/plain": [
       "          0         1         2         3         4         5         6  \\\n",
       "0 -2.612200  3.616719  0.946084 -0.750976 -1.459967  1.154278 -2.062768   \n",
       "1 -1.238594  0.239310 -1.455674 -0.086769  0.402272  0.274614 -1.586580   \n",
       "2 -2.123245  2.530917 -0.112363  1.082492 -2.496229  1.845802 -0.058333   \n",
       "\n",
       "          7         8  \n",
       "0  1.055601 -0.175414  \n",
       "1 -1.189435  0.016565  \n",
       "2  1.382721 -0.239196  "
      ]
     },
     "execution_count": 82,
     "metadata": {},
     "output_type": "execute_result"
    }
   ],
   "source": [
    "# PCA with 95% variance retained\n",
    "pca = PCA(n_components = 0.95)\n",
    "pca.fit(df)\n",
    "df = pd.DataFrame(pca.transform(df))\n",
    "df.head(3)"
   ]
  },
  {
   "cell_type": "markdown",
   "id": "fecfc61b-6835-4dcc-8cd8-541a526b2d24",
   "metadata": {},
   "source": [
    "#### Observations:\n",
    "\n",
    "    Number of dimensions have reduced from 15 to 8\n",
    "\n"
   ]
  },
  {
   "cell_type": "markdown",
   "id": "e2162c88-58c2-4978-81ef-8180d77ad91f",
   "metadata": {},
   "source": [
    "### Model Training and Prediction"
   ]
  },
  {
   "cell_type": "code",
   "execution_count": 90,
   "id": "e201595d-02ac-49e1-bfe3-2c9bc2238bcf",
   "metadata": {},
   "outputs": [],
   "source": [
    "# Import libraries for Model training, prediction and evaluation\n",
    "from sklearn.model_selection import train_test_split, RandomizedSearchCV, cross_val_score\n",
    "from sklearn.tree import DecisionTreeClassifier\n",
    "from sklearn.svm import SVC\n",
    "from sklearn.metrics import accuracy_score, confusion_matrix, ConfusionMatrixDisplay\n",
    "import xgboost as xgb\n",
    "import pickle"
   ]
  },
  {
   "cell_type": "code",
   "execution_count": 86,
   "id": "aaa0631b-2f90-4161-a96f-a884a156c1fa",
   "metadata": {},
   "outputs": [],
   "source": [
    "# Split Data into Train and Test sets with 80% of data as Train set\n",
    "X_train, X_test, y_train, y_test = train_test_split(X, y, test_size = 0.2, random_state=0)"
   ]
  },
  {
   "cell_type": "markdown",
   "id": "643bd6ad-5ac4-4108-819a-7406971e89f7",
   "metadata": {},
   "source": [
    "#### Create a model function \n",
    "Train model using Training set and Predict on the Test set\n",
    "\n"
   ]
  },
  {
   "cell_type": "code",
   "execution_count": 92,
   "id": "7eb3a5f0-dab0-4583-b406-e9cfbe72db20",
   "metadata": {},
   "outputs": [],
   "source": [
    "# Function to fit classifier and print Accuracy score\n",
    "def model(classifier,model_name, X_train = X_train, y_train = y_train,\n",
    "                             X_test = X_test, y_test = y_test):\n",
    "# Fit Model to the training set\n",
    "    classifier.fit(X_train,np.ravel(y_train))\n",
    "\n",
    " # save the model to disk using pickle\n",
    "    filename = model_name+'.sav'\n",
    "    pickle.dump(classifier, open(filename, 'wb'))\n",
    "\n",
    "# Predict testing set using the Trained Model\n",
    "    y_pred = classifier.predict(X_test)\n",
    "    print(\"Model: \",type(classifier).__name__)\n",
    "    print(\"Test Data Accuracy: %0.2f\" % accuracy_score(y_test,y_pred))"
   ]
  },
  {
   "cell_type": "markdown",
   "id": "8a467515-6012-4e75-842d-f98818d8ca31",
   "metadata": {},
   "source": [
    "### Decision Trees Training and Prediction"
   ]
  },
  {
   "cell_type": "code",
   "execution_count": 93,
   "id": "09f87e67-7484-4347-957b-e441f8318b45",
   "metadata": {},
   "outputs": [
    {
     "name": "stdout",
     "output_type": "stream",
     "text": [
      "Model:  DecisionTreeClassifier\n",
      "Test Data Accuracy: 0.91\n"
     ]
    }
   ],
   "source": [
    "# Initialize Logistic Regression with max_iteration 1000\n",
    "clf_dct = DecisionTreeClassifier()\n",
    "\n",
    "# Fit Model to the training set\n",
    "model(clf_dct,'decision_tree')\n",
    "\n"
   ]
  },
  {
   "cell_type": "markdown",
   "id": "347f20c1-74e1-411c-9df0-9570af24d32c",
   "metadata": {},
   "source": [
    "### SVC Training and Prediction"
   ]
  },
  {
   "cell_type": "code",
   "execution_count": 94,
   "id": "16d7e85b-6118-4e2a-b985-b244fd4f1905",
   "metadata": {},
   "outputs": [
    {
     "name": "stdout",
     "output_type": "stream",
     "text": [
      "Model:  SVC\n",
      "Test Data Accuracy: 0.95\n"
     ]
    }
   ],
   "source": [
    "clf_svc = SVC()\n",
    "model(clf_svc,'svc')"
   ]
  },
  {
   "cell_type": "markdown",
   "id": "17d3e82d-7632-49bb-bffc-2bf1691af085",
   "metadata": {},
   "source": [
    "### Load save model \n",
    "\n",
    "Pickle is the standard way of serializing objects in Python.\n",
    "\n",
    "You can use the pickle operation to serialize your machine learning algorithms and save the serialized format to a file.\n",
    "\n"
   ]
  },
  {
   "cell_type": "code",
   "execution_count": 97,
   "id": "508ef464-603d-46e5-87eb-0a8243b5bafa",
   "metadata": {},
   "outputs": [
    {
     "name": "stdout",
     "output_type": "stream",
     "text": [
      "0.910958904109589\n"
     ]
    }
   ],
   "source": [
    "# load the model from disk\n",
    "loaded_model = pickle.load(open(\"decision_tree.sav\", 'rb'))\n",
    "result = loaded_model.score(X_test, y_test)\n",
    "print(result)"
   ]
  },
  {
   "cell_type": "code",
   "execution_count": null,
   "id": "0d8842cf-19fc-424e-8b70-0055a4adedb3",
   "metadata": {},
   "outputs": [],
   "source": []
  }
 ],
 "metadata": {
  "kernelspec": {
   "display_name": "MlServer",
   "language": "python",
   "name": "mlserver"
  },
  "language_info": {
   "codemirror_mode": {
    "name": "ipython",
    "version": 3
   },
   "file_extension": ".py",
   "mimetype": "text/x-python",
   "name": "python",
   "nbconvert_exporter": "python",
   "pygments_lexer": "ipython3",
   "version": "3.8.8"
  }
 },
 "nbformat": 4,
 "nbformat_minor": 5
}
